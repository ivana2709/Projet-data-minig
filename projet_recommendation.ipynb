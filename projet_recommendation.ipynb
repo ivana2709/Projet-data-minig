{
  "nbformat": 4,
  "nbformat_minor": 0,
  "metadata": {
    "colab": {
      "name": "projet_recommendation.ipynb",
      "provenance": [],
      "collapsed_sections": [],
      "include_colab_link": true
    },
    "kernelspec": {
      "name": "python3",
      "display_name": "Python 3"
    }
  },
  "cells": [
    {
      "cell_type": "markdown",
      "metadata": {
        "id": "view-in-github",
        "colab_type": "text"
      },
      "source": [
        "<a href=\"https://colab.research.google.com/github/ivana2709/TP-Git/blob/master/projet_recommendation.ipynb\" target=\"_parent\"><img src=\"https://colab.research.google.com/assets/colab-badge.svg\" alt=\"Open In Colab\"/></a>"
      ]
    },
    {
      "cell_type": "markdown",
      "metadata": {
        "id": "H70yZunQMSCF"
      },
      "source": [
        "Téléchargement de images "
      ]
    },
    {
      "cell_type": "code",
      "metadata": {
        "id": "b3wYGKWxJEHs"
      },
      "source": [
        "\n",
        "import urllib.request\n",
        "from PIL import Image\n",
        "from PIL.ExifTags import TAGS \n",
        "import html\n",
        "import json\n",
        "from bs4 import BeautifulSoup\n",
        "  \n",
        "with open(\"mont.html\") as html_file:\n",
        "  soup = BeautifulSoup(html_file, 'html.parser')\n",
        "\n",
        "#téléchargement d'une image \n",
        "def download (i,Tab_link,folder):\n",
        "    filename ='image{}.jpg'.format(i)\n",
        "    full_path = '{}{}'.format(folder,filename)\n",
        "    url = Tab_link\n",
        "    response = urllib.request.urlretrieve(url,full_path)\n",
        "    return 0 \n",
        "\n",
        "#téléchargement de toutes les images \n",
        "def download_all ():\n",
        "  Tab_link = []\n",
        "  folder = 'images/'\n",
        "\n",
        "  for link in soup.find_all(\"td\"):\n",
        "    Tab_link.append(link.text)\n",
        "\n",
        "  for i in range (len(Tab_link)):\n",
        "    download(i,Tab_link[i],folder)\n",
        "  return 0\n",
        "\n",
        "download_all()\n",
        "\n",
        "\n"
      ],
      "execution_count": null,
      "outputs": []
    },
    {
      "cell_type": "markdown",
      "metadata": {
        "id": "wgm9moFdQ-0s"
      },
      "source": [
        "\n",
        "\n",
        "On extrait les metada des images grace à leurs fichier Exif et on les stosk dans des fichiers json\n",
        "\n"
      ]
    },
    {
      "cell_type": "code",
      "metadata": {
        "id": "5l7g_W4T48NT",
        "colab": {
          "base_uri": "https://localhost:8080/"
        },
        "outputId": "1bf816db-3126-4201-e1c5-8c699e1ae41f"
      },
      "source": [
        "from PIL import Image\n",
        "from PIL.ExifTags import TAGS \n",
        "import pandas as pd\n",
        "import os\n",
        "\n",
        "def metadata(tab_image):\n",
        "  if tab_image=='.ipynb_checkpoints':\n",
        "     return (0,0,0,0)\n",
        "  else :\n",
        "    img = \"images/\"+tab_image   \n",
        "    images = Image.open(img)\n",
        "    exif={}\n",
        "    size= images.size\n",
        "    form = images.format\n",
        "    if images._getexif() is None :\n",
        "      return (0, 0,0,0)\n",
        "    else :\n",
        "      for tag, value in images._getexif().items():\n",
        "        if tag in TAGS:\n",
        "            exif[TAGS[tag]] = value\n",
        "    return (exif['DateTimeOriginal'], exif['Make']  , size,\n",
        "              form )\n",
        "    \n",
        "def metadata_all ():\n",
        "  tab_image =[] #contient les images \n",
        "  dates= []\n",
        "  appareils= []\n",
        "  tailles=[]\n",
        "  formats=[]\n",
        "\n",
        "  for element in os.listdir('images'):\n",
        "    tab_image.append(element)\n",
        "  print (tab_image)\n",
        "\n",
        "\n",
        "  for i in range(1,10):  # for i in range(1,len(tab_image)):\n",
        "    (date,appareil,taille,extension)=metadata(tab_image[i])\n",
        "    dates.append (date)\n",
        "    appareils.append(appareil)\n",
        "    tailles.append(taille)\n",
        "    formats.append(extension)\n",
        "\n",
        "  #save tab to data frame \n",
        "  df1 = pd.DataFrame(dates)\n",
        "  df2= pd.DataFrame(appareils)\n",
        "  df4= pd.DataFrame(tailles)\n",
        "  df5= pd.DataFrame(formats)\n",
        "\n",
        "  #save data frame to json file\n",
        "  df1.to_json('date.json') \n",
        "  df2.to_json('appareil.json')\n",
        "  df4.to_json('taille.json')\n",
        "  df5.to_json('format.json')\n",
        "\n",
        "metadata_all ()\n"
      ],
      "execution_count": null,
      "outputs": [
        {
          "output_type": "stream",
          "text": [
            "['image3.jpg', 'image7.jpg', 'image11.jpg', 'image2.jpg', 'image9.jpg', 'image5.jpg', 'image4.jpg', 'image6.jpg', '.ipynb_checkpoints', 'image0.jpg', 'image1.jpg', 'image14.jpg', 'image8.jpg', 'image10.jpg', 'image15.jpg', 'image13.jpg']\n"
          ],
          "name": "stdout"
        }
      ]
    },
    {
      "cell_type": "markdown",
      "metadata": {
        "id": "xEFQ0pSAh9S_"
      },
      "source": [
        "Visualisation des données : </br>\n",
        "-Le nombre d'images disponibles pour chaque année </br>\n",
        "-le nombre d'images disponibles pour les différents types : taille, orientation... </br>\n",
        "-caractétistique des couleurs "
      ]
    },
    {
      "cell_type": "code",
      "metadata": {
        "id": "fqLBl-93is-J",
        "colab": {
          "base_uri": "https://localhost:8080/",
          "height": 506
        },
        "outputId": "af6f1891-382a-470d-8c1a-1f6d9fe42b33"
      },
      "source": [
        "import pandas as pd\n",
        "import os\n",
        "import json\n",
        "from pandas import json_normalize\n",
        "import matplotlib.pyplot as plot\n",
        "\n",
        "def visu_date ():\n",
        "  jsondata = json.load(open('date.json'))\n",
        "  df1= pd.DataFrame(jsondata , columns=['0'])\n",
        "\n",
        " #on parcours le dataframe des dates \n",
        "  for i in df1.index: \n",
        "    a=df1[\"0\"][i] \n",
        "    if a == 0: \n",
        "      df1[\"0\"][i] =int(2021) #2021 est l'année par defaut \n",
        "      #print (df1[\"0\"][i])\n",
        "    else :\n",
        "      b=a.split(\":\",1)\n",
        "      df1[\"0\"][i] = int(b[0]) #on récupère uniquement l'année \n",
        "  df1=df1.astype(dtype={\"0\":\"<i4\"})\n",
        "  #groupe = df1.groupby(['0']).count()\n",
        "  d=pd.value_counts(df1['0'].values) #compte d'image par an\n",
        "  #Tracé\n",
        "  print(d.plot(x=0, kind='bar', title=\"Nombre d'images disponible par an\"))\n",
        "\n",
        "def visu_taille():\n",
        "  jsondata = json.load(open('taille.json'))\n",
        "  df2= pd.DataFrame(jsondata , columns=['0'])\n",
        "  for i in df2.index:\n",
        "    t = df2[\"0\"][i]\n",
        "    if t == 0:\n",
        "      df2[\"0\"][i] = 5000000 #taille par défaut\n",
        "    else :\n",
        "      df2[\"0\"][i] = t[0]*t[1]  \n",
        "  df2=df2.astype(dtype={\"0\":\"<i4\"})\n",
        "  #groupe2 = df2.groupby(['0']).count()\n",
        "  t=pd.value_counts(df2['0'].values) #compte le nombre de fois qu'une taille apparait\n",
        "  #Tracé\n",
        "  print(t.plot(x=0, kind='bar', title=\"Nombre d'images disponible par taille\"))  \n",
        "  \n",
        "def appareil():\n",
        "  jsondata=json.load(open('appareil.json'))\n",
        "  df3= pd.DataFrame(jsondata,columns=['0'])\n",
        "  for i in df3.index:\n",
        "    t=df3[\"0\"][i]\n",
        "    if t== 0:\n",
        "      df3[\"0\"][i] = \"Iphone\" #appareil photo par défaut \n",
        "  a=pd.value_counts(df3['0'].values) #compte le nombre de fois qu'une taille apparait\n",
        "  print(df3)\n",
        "  print(a.plot(x=0, kind='bar', title=\"Nombre d'images pris par chaque appareil\"))  \n",
        "\n",
        "def visu_all():\n",
        "  #visu_date()\n",
        "  #visu_taille()\n",
        "  appareil()\n",
        "\n",
        "\n",
        "visu_all()"
      ],
      "execution_count": 45,
      "outputs": [
        {
          "output_type": "stream",
          "text": [
            "           0\n",
            "0     Iphone\n",
            "1      Canon\n",
            "2       SONY\n",
            "3  Panasonic\n",
            "4      Canon\n",
            "5     Iphone\n",
            "6       SONY\n",
            "7     Iphone\n",
            "8      Canon\n",
            "AxesSubplot(0.125,0.125;0.775x0.755)\n"
          ],
          "name": "stdout"
        },
        {
          "output_type": "display_data",
          "data": {
            "image/png": "[encoded data removed]",
            "text/plain": [
              "<Figure size 432x288 with 1 Axes>"
            ]
          },
          "metadata": {
            "tags": [],
            "needs_background": "light"
          }
        }
      ]
    },
    {
      "cell_type": "code",
      "metadata": {
        "id": "BLp39WDm0eIs"
      },
      "source": [
        "import pandas as pd\n",
        "import os"
      ],
      "execution_count": null,
      "outputs": []
    },
    {
      "cell_type": "markdown",
      "metadata": {
        "id": "HCuVqu_f5L2n"
      },
      "source": [
        "Test"
      ]
    },
    {
      "cell_type": "code",
      "metadata": {
        "colab": {
          "base_uri": "https://localhost:8080/"
        },
        "id": "VZw2J3PZ5osP",
        "outputId": "ce47b98e-654b-4f76-cc7e-2695fcfd54a8"
      },
      "source": [
        "import os\n",
        "import datetime\n",
        "img='images/image3.jpg'\n",
        "imagea = Image.open(img)\n",
        "exif={}\n",
        "img_exif=imagea.getexif()\n",
        "taille=imagea.size\n",
        "\n",
        "if img_exif is None :\n",
        "  print (0)\n",
        "else :\n",
        "  for tag, value in img_exif.items():\n",
        "      if tag in TAGS:\n",
        "        exif[TAGS[tag]] =value\n",
        "        fileName, fileExtension = os.path.splitext(img)\n",
        "  print (taille)\n",
        "\n"
      ],
      "execution_count": null,
      "outputs": [
        {
          "output_type": "stream",
          "text": [
            "(2272, 1704)\n"
          ],
          "name": "stdout"
        }
      ]
    }
  ]
}